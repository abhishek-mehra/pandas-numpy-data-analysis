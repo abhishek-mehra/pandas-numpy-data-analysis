{
 "cells": [
  {
   "cell_type": "code",
   "execution_count": 2,
   "metadata": {
    "tags": []
   },
   "outputs": [
    {
     "data": {
      "text/html": [
       "<div>\n",
       "<style scoped>\n",
       "    .dataframe tbody tr th:only-of-type {\n",
       "        vertical-align: middle;\n",
       "    }\n",
       "\n",
       "    .dataframe tbody tr th {\n",
       "        vertical-align: top;\n",
       "    }\n",
       "\n",
       "    .dataframe thead th {\n",
       "        text-align: right;\n",
       "    }\n",
       "</style>\n",
       "<table border=\"1\" class=\"dataframe\">\n",
       "  <thead>\n",
       "    <tr style=\"text-align: right;\">\n",
       "      <th></th>\n",
       "      <th>iata</th>\n",
       "      <th>airport</th>\n",
       "      <th>city</th>\n",
       "      <th>state</th>\n",
       "      <th>country</th>\n",
       "      <th>lat</th>\n",
       "      <th>long</th>\n",
       "      <th>cnt</th>\n",
       "    </tr>\n",
       "  </thead>\n",
       "  <tbody>\n",
       "    <tr>\n",
       "      <th>0</th>\n",
       "      <td>ORD</td>\n",
       "      <td>Chicago O'Hare International</td>\n",
       "      <td>Chicago</td>\n",
       "      <td>IL</td>\n",
       "      <td>USA</td>\n",
       "      <td>41.979595</td>\n",
       "      <td>-87.904464</td>\n",
       "      <td>25129</td>\n",
       "    </tr>\n",
       "    <tr>\n",
       "      <th>1</th>\n",
       "      <td>ATL</td>\n",
       "      <td>William B Hartsfield-Atlanta Intl</td>\n",
       "      <td>Atlanta</td>\n",
       "      <td>GA</td>\n",
       "      <td>USA</td>\n",
       "      <td>33.640444</td>\n",
       "      <td>-84.426944</td>\n",
       "      <td>21925</td>\n",
       "    </tr>\n",
       "    <tr>\n",
       "      <th>2</th>\n",
       "      <td>DFW</td>\n",
       "      <td>Dallas-Fort Worth International</td>\n",
       "      <td>Dallas-Fort Worth</td>\n",
       "      <td>TX</td>\n",
       "      <td>USA</td>\n",
       "      <td>32.895951</td>\n",
       "      <td>-97.037200</td>\n",
       "      <td>20662</td>\n",
       "    </tr>\n",
       "    <tr>\n",
       "      <th>3</th>\n",
       "      <td>PHX</td>\n",
       "      <td>Phoenix Sky Harbor International</td>\n",
       "      <td>Phoenix</td>\n",
       "      <td>AZ</td>\n",
       "      <td>USA</td>\n",
       "      <td>33.434167</td>\n",
       "      <td>-112.008056</td>\n",
       "      <td>17290</td>\n",
       "    </tr>\n",
       "    <tr>\n",
       "      <th>4</th>\n",
       "      <td>DEN</td>\n",
       "      <td>Denver Intl</td>\n",
       "      <td>Denver</td>\n",
       "      <td>CO</td>\n",
       "      <td>USA</td>\n",
       "      <td>39.858408</td>\n",
       "      <td>-104.667002</td>\n",
       "      <td>13781</td>\n",
       "    </tr>\n",
       "  </tbody>\n",
       "</table>\n",
       "</div>"
      ],
      "text/plain": [
       "  iata                            airport               city state country  \\\n",
       "0  ORD       Chicago O'Hare International            Chicago    IL     USA   \n",
       "1  ATL  William B Hartsfield-Atlanta Intl            Atlanta    GA     USA   \n",
       "2  DFW    Dallas-Fort Worth International  Dallas-Fort Worth    TX     USA   \n",
       "3  PHX   Phoenix Sky Harbor International            Phoenix    AZ     USA   \n",
       "4  DEN                        Denver Intl             Denver    CO     USA   \n",
       "\n",
       "         lat        long    cnt  \n",
       "0  41.979595  -87.904464  25129  \n",
       "1  33.640444  -84.426944  21925  \n",
       "2  32.895951  -97.037200  20662  \n",
       "3  33.434167 -112.008056  17290  \n",
       "4  39.858408 -104.667002  13781  "
      ]
     },
     "execution_count": 2,
     "metadata": {},
     "output_type": "execute_result"
    }
   ],
   "source": [
    "# PLEASE, DO NOT MODIFY THIS CELL!\n",
    "\n",
    "# IMPORT NECESSARY LIBRARIES AND DATA\n",
    "import pandas as pd\n",
    "import numpy as np\n",
    "\n",
    "# SECTION A data\n",
    "nparr = np.arange(145, 217).reshape(12, 6)\n",
    "\n",
    "# data location\n",
    "data_url = 'https://raw.githubusercontent.com/plotly/datasets/master/2011_february_us_airport_traffic.csv'\n",
    "a_df = pd.read_csv(data_url, header=0)\n",
    "a_df.head()\n"
   ]
  },
  {
   "attachments": {},
   "cell_type": "markdown",
   "metadata": {},
   "source": [
    "##  SECTION A\n",
    "\n",
    "1. Determine the shape, number of dimensions and type of elements in the numpy array `nparr`\n",
    "2. Determine the standard deviation of all elements in `nparr`\n",
    "3. Determine the position (not the value) of the maximum value element in `nparr`\n",
    "4. Create an array of the same shape as `nparr` but filled with zeros\n",
    "5. Create an array of the same shape as `nparr` but filled with ones\n",
    "6. Create an array of the same shape as `nparr` but where all elements are the square root values\n",
    "7. Create an array result of shape `12` by `12` resulting from multiplication of nparr with transpose(`nparr`). Hint: use `np.dot`"
   ]
  },
  {
   "cell_type": "code",
   "execution_count": 3,
   "metadata": {
    "tags": []
   },
   "outputs": [
    {
     "name": "stdout",
     "output_type": "stream",
     "text": [
      "Shape of nparr is (12, 6)\n",
      "Number of dimensions of nparr: 2\n",
      "Type of elements in nparr: int64\n"
     ]
    }
   ],
   "source": [
    "# YOUR SECTION A ANSWER HERE (please use comments to number each of your answers)\n",
    "#1.\n",
    "nparr_shape = nparr.shape  #shape of nparr\n",
    "print(f'Shape of nparr is {nparr_shape}')\n",
    "print(\"Number of dimensions of nparr:\", nparr.ndim)\n",
    "print(\"Type of elements in nparr:\", nparr.dtype)\n",
    "\n"
   ]
  },
  {
   "cell_type": "code",
   "execution_count": 4,
   "metadata": {
    "tags": []
   },
   "outputs": [
    {
     "name": "stdout",
     "output_type": "stream",
     "text": [
      "standard deviation of all the elements 20.7826049057058\n"
     ]
    }
   ],
   "source": [
    "#2.\n",
    "nparr_std_dev = np.std(nparr) #standard deviation of all the elements\n",
    "print(f'standard deviation of all the elements {nparr_std_dev}')\n"
   ]
  },
  {
   "cell_type": "code",
   "execution_count": 5,
   "metadata": {
    "tags": []
   },
   "outputs": [
    {
     "name": "stdout",
     "output_type": "stream",
     "text": [
      "Position of maximum value in nparr: (11, 5)\n"
     ]
    }
   ],
   "source": [
    "#3.\n",
    "max_position = np.unravel_index(np.argmax(nparr), nparr.shape)\n",
    "print(\"Position of maximum value in nparr:\", max_position)\n",
    "\n",
    "\n"
   ]
  },
  {
   "cell_type": "code",
   "execution_count": 6,
   "metadata": {
    "tags": []
   },
   "outputs": [
    {
     "name": "stdout",
     "output_type": "stream",
     "text": [
      "zeros array\n",
      " [[0 0 0 0 0 0]\n",
      " [0 0 0 0 0 0]\n",
      " [0 0 0 0 0 0]\n",
      " [0 0 0 0 0 0]\n",
      " [0 0 0 0 0 0]\n",
      " [0 0 0 0 0 0]\n",
      " [0 0 0 0 0 0]\n",
      " [0 0 0 0 0 0]\n",
      " [0 0 0 0 0 0]\n",
      " [0 0 0 0 0 0]\n",
      " [0 0 0 0 0 0]\n",
      " [0 0 0 0 0 0]]\n"
     ]
    }
   ],
   "source": [
    "#4.\n",
    "zeros_array = np.zeros_like(nparr) #array with same shape as nparr but with zeroes\n",
    "print('zeros array\\n',zeros_array)\n",
    "\n"
   ]
  },
  {
   "cell_type": "code",
   "execution_count": 7,
   "metadata": {
    "tags": []
   },
   "outputs": [
    {
     "name": "stdout",
     "output_type": "stream",
     "text": [
      "Ones array:\n",
      " [[1 1 1 1 1 1]\n",
      " [1 1 1 1 1 1]\n",
      " [1 1 1 1 1 1]\n",
      " [1 1 1 1 1 1]\n",
      " [1 1 1 1 1 1]\n",
      " [1 1 1 1 1 1]\n",
      " [1 1 1 1 1 1]\n",
      " [1 1 1 1 1 1]\n",
      " [1 1 1 1 1 1]\n",
      " [1 1 1 1 1 1]\n",
      " [1 1 1 1 1 1]\n",
      " [1 1 1 1 1 1]]\n"
     ]
    }
   ],
   "source": [
    "#5.\n",
    "ones_array = np.ones_like(nparr) #array with same shape as nparr but with ones\n",
    "\n",
    "print(\"Ones array:\\n\", ones_array)\n",
    "\n"
   ]
  },
  {
   "cell_type": "code",
   "execution_count": 8,
   "metadata": {
    "tags": []
   },
   "outputs": [
    {
     "name": "stdout",
     "output_type": "stream",
     "text": [
      "Square root array:\n",
      " [[12.04159458 12.08304597 12.12435565 12.16552506 12.20655562 12.24744871]\n",
      " [12.28820573 12.32882801 12.36931688 12.40967365 12.4498996  12.489996  ]\n",
      " [12.52996409 12.56980509 12.60952021 12.64911064 12.68857754 12.72792206]\n",
      " [12.76714533 12.80624847 12.84523258 12.88409873 12.92284798 12.9614814 ]\n",
      " [13.         13.03840481 13.07669683 13.11487705 13.15294644 13.19090596]\n",
      " [13.22875656 13.26649916 13.3041347  13.34166406 13.37908816 13.41640786]\n",
      " [13.45362405 13.49073756 13.52774926 13.56465997 13.60147051 13.6381817 ]\n",
      " [13.67479433 13.7113092  13.74772708 13.78404875 13.82027496 13.85640646]\n",
      " [13.89244399 13.92838828 13.96424004 14.         14.03566885 14.07124728]\n",
      " [14.10673598 14.14213562 14.17744688 14.2126704  14.24780685 14.28285686]\n",
      " [14.31782106 14.35270009 14.38749457 14.4222051  14.45683229 14.49137675]\n",
      " [14.52583905 14.56021978 14.59451952 14.62873884 14.6628783  14.69693846]]\n"
     ]
    }
   ],
   "source": [
    "#6.\n",
    "sqrt_array = np.sqrt(nparr)\n",
    "print(\"Square root array:\\n\", sqrt_array)\n",
    "\n"
   ]
  },
  {
   "cell_type": "code",
   "execution_count": 9,
   "metadata": {
    "tags": []
   },
   "outputs": [
    {
     "name": "stdout",
     "output_type": "stream",
     "text": [
      "Result of multiplication:\n",
      " [[130555 135865 141175 146485 151795 157105 162415 167725 173035 178345\n",
      "  183655 188965]\n",
      " [135865 141391 146917 152443 157969 163495 169021 174547 180073 185599\n",
      "  191125 196651]\n",
      " [141175 146917 152659 158401 164143 169885 175627 181369 187111 192853\n",
      "  198595 204337]\n",
      " [146485 152443 158401 164359 170317 176275 182233 188191 194149 200107\n",
      "  206065 212023]\n",
      " [151795 157969 164143 170317 176491 182665 188839 195013 201187 207361\n",
      "  213535 219709]\n",
      " [157105 163495 169885 176275 182665 189055 195445 201835 208225 214615\n",
      "  221005 227395]\n",
      " [162415 169021 175627 182233 188839 195445 202051 208657 215263 221869\n",
      "  228475 235081]\n",
      " [167725 174547 181369 188191 195013 201835 208657 215479 222301 229123\n",
      "  235945 242767]\n",
      " [173035 180073 187111 194149 201187 208225 215263 222301 229339 236377\n",
      "  243415 250453]\n",
      " [178345 185599 192853 200107 207361 214615 221869 229123 236377 243631\n",
      "  250885 258139]\n",
      " [183655 191125 198595 206065 213535 221005 228475 235945 243415 250885\n",
      "  258355 265825]\n",
      " [188965 196651 204337 212023 219709 227395 235081 242767 250453 258139\n",
      "  265825 273511]]\n"
     ]
    }
   ],
   "source": [
    "#7.\n",
    "dot_array = np.dot(nparr, nparr.T) #dot product of npaar and transpose of nparr\n",
    "print(\"Result of multiplication:\\n\", dot_array)"
   ]
  },
  {
   "attachments": {},
   "cell_type": "markdown",
   "metadata": {},
   "source": [
    "##  SECTION B\n",
    "\n",
    "The dataframe `a_df` loads the dataset that contains information on a number of categories regarding traffic (variable `cnt` represents the actual traffic) at US airports from February 2011.\n",
    "The dataset has already been loaded for you in the first code cell above.\n",
    " 1. Print the number of rows for the subset of the dataframe for which traffic values are higher than `10,000` (ideally, you should format the print to put the thousands comma separator--as in `23,400` instead of `23400`\n",
    " 2. Print the names of all the columns of the dataframe\n",
    " 3. Print a subset of the dataframe containing the `10th` and the `3rd` rows of the original dataframe (`in that order`).\n",
    " 4. Which US `state` has the `8th` largest __total__ airport traffic? Please, make sure you use the correct variable as described above.\n",
    " 5. Which state has the second-most __total__ number of airports (i.e. the second-most amount of airports)?\n",
    " 6. Of the cities that have multiple airports, which one has the least total traffic for all airports?\n",
    " 7. What is the total airport traffic for all states that border the state of Massachusetts?\n"
   ]
  },
  {
   "cell_type": "code",
   "execution_count": 10,
   "metadata": {
    "tags": []
   },
   "outputs": [
    {
     "name": "stdout",
     "output_type": "stream",
     "text": [
      "Q1. \n",
      "The number of rows for the subset of the dataframe for which traffic values are higher than 10,000 is 10\n",
      "\n"
     ]
    }
   ],
   "source": [
    "# YOUR SECTION B ANSWER HERE (please use comments to number each of your answers)\n",
    "#1.\n",
    "print(f\"Q1. \\nThe number of rows for the subset of the dataframe for which traffic values are higher than 10,000 is {len(a_df[a_df['cnt']>10000])}\\n\")"
   ]
  },
  {
   "cell_type": "code",
   "execution_count": 11,
   "metadata": {
    "tags": []
   },
   "outputs": [
    {
     "name": "stdout",
     "output_type": "stream",
     "text": [
      "Q2. \n",
      "The name of columns are:['iata', 'airport', 'city', 'state', 'country', 'lat', 'long', 'cnt']\n",
      "\n"
     ]
    }
   ],
   "source": [
    "#2.\n",
    "print(f'Q2. \\nThe name of columns are:{list(a_df.columns)}\\n')"
   ]
  },
  {
   "cell_type": "code",
   "execution_count": 12,
   "metadata": {
    "tags": []
   },
   "outputs": [
    {
     "name": "stdout",
     "output_type": "stream",
     "text": [
      "Q3.Subset with 10th and 3rd rows will be \n",
      "\n",
      "     iata                           airport            city state country  \\\n",
      "10  SLC               Salt Lake City Intl  Salt Lake City    UT     USA   \n",
      "3   PHX  Phoenix Sky Harbor International         Phoenix    AZ     USA   \n",
      "\n",
      "          lat        long    cnt  \n",
      "10  40.788388 -111.977773   9898  \n",
      "3   33.434167 -112.008056  17290  \n"
     ]
    }
   ],
   "source": [
    "#3.\n",
    "print(f'Q3.Subset with 10th and 3rd rows will be \\n\\n ', a_df.iloc[[10,3]])"
   ]
  },
  {
   "cell_type": "code",
   "execution_count": 13,
   "metadata": {
    "tags": []
   },
   "outputs": [
    {
     "name": "stdout",
     "output_type": "stream",
     "text": [
      "\n",
      "Q4.\n",
      "The state with 8th largest total airport traffic is:CO\n"
     ]
    }
   ],
   "source": [
    "#4.\n",
    "df_cnt = a_df.groupby(by=['state']).sum(numeric_only=True) #grouping by state\n",
    "df_cnt_sorted = df_cnt.sort_values(by=['cnt'],ascending=False) #sorting in descending order\n",
    "df_cnt_sorted.reset_index(inplace=True) #reset the index\n",
    "print(f'\\nQ4.\\nThe state with 8th largest total airport traffic is:{df_cnt_sorted[\"state\"][7]}')"
   ]
  },
  {
   "cell_type": "code",
   "execution_count": 14,
   "metadata": {
    "tags": []
   },
   "outputs": [
    {
     "name": "stdout",
     "output_type": "stream",
     "text": [
      "\n",
      "Q5.\n",
      " The state with second-most total number of airports (i.e. the second-most amount of airports) is TX\n"
     ]
    }
   ],
   "source": [
    "#5.\n",
    "df_groupby_state = a_df.groupby(by=['state'])\n",
    "df_count = df_groupby_state['airport'].count().sort_values(ascending=False).reset_index()\n",
    "print(f'\\nQ5.\\n The state with second-most total number of airports (i.e. the second-most amount of airports) is {df_count[\"state\"][1]}')"
   ]
  },
  {
   "cell_type": "code",
   "execution_count": 15,
   "metadata": {
    "tags": []
   },
   "outputs": [
    {
     "name": "stdout",
     "output_type": "stream",
     "text": [
      "\n",
      "Q6.\n",
      " Of the cities that have multiple airports, one that has the least total traffic for all airports is Charleston\n"
     ]
    }
   ],
   "source": [
    "#6.\n",
    "df_count_sum = a_df.groupby(['city']).agg({'airport':'count','cnt':'sum'}).sort_values(by='cnt') #agrregating by air port count, and sum of traffic, sorting by cnt\n",
    "df_more_than_one_airport = df_count_sum[df_count_sum['airport']>1].reset_index()  #filter city with more airports\n",
    "print(f\"\\nQ6.\\n Of the cities that have multiple airports, one that has the least total traffic for all airports is {df_more_than_one_airport['city'][0]}\")"
   ]
  },
  {
   "cell_type": "code",
   "execution_count": 16,
   "metadata": {
    "tags": []
   },
   "outputs": [
    {
     "name": "stdout",
     "output_type": "stream",
     "text": [
      "\n",
      "Q7.\n",
      " Total airport traffic for all states that border the state of Massachusetts 22007\n"
     ]
    }
   ],
   "source": [
    "#7.\n",
    "neighbour_states=a_df[(a_df['state']=='NY') | (a_df['state']=='VT') | (a_df['state']=='NH') | (a_df['state']=='RI') | (a_df['state']=='CT')]\n",
    "print(f\"\\nQ7.\\n Total airport traffic for all states that border the state of Massachusetts {neighbour_states['cnt'].sum()}\")"
   ]
  },
  {
   "cell_type": "code",
   "execution_count": 17,
   "metadata": {
    "tags": []
   },
   "outputs": [],
   "source": [
    "city_traffic = a_df.groupby('city')['cnt'].sum()\n",
    "\n",
    "# get cities with multiple airports\n",
    "multi_airports = city_traffic[city_traffic.duplicated(keep=False)].index"
   ]
  },
  {
   "cell_type": "code",
   "execution_count": 18,
   "metadata": {},
   "outputs": [
    {
     "data": {
      "text/plain": [
       "Index(['Alexandria', 'Appleton', 'Augusta', 'Bellingham', 'Bismarck', 'Casper',\n",
       "       'Charlottesville', 'Chattanooga', 'Cheyenne', 'Cody',\n",
       "       'Columbus-Starkville-West Point', 'Dubuque', 'Eau Claire', 'Evansville',\n",
       "       'Fayetteville', 'Fort Smith', 'Fresno', 'Gillette', 'Great Falls',\n",
       "       'Gunnison', 'Helena', 'Hollister', 'Idaho Falls', 'Klamath Falls',\n",
       "       'Lewisburg', 'Mammoth Lakes', 'Manhattan', 'McAllen', 'Medford',\n",
       "       'Meridian', 'New Bern', 'North Bend', 'Oklahoma City', 'Paducah',\n",
       "       'Pasco', 'Peoria', 'Pocatello', 'Redding', 'Reno', 'Rock Springs',\n",
       "       'San Luis Obispo', 'Santa Fe', 'Santa Maria', 'Shreveport', 'Telluride',\n",
       "       'Valdosta', 'Valparaiso', 'Wichita Falls', 'Wilkes-Barre/Scranton'],\n",
       "      dtype='object', name='city')"
      ]
     },
     "execution_count": 18,
     "metadata": {},
     "output_type": "execute_result"
    }
   ],
   "source": [
    "multi_airports"
   ]
  }
 ],
 "metadata": {
  "kernelspec": {
   "display_name": "Python 3 (ipykernel)",
   "language": "python",
   "name": "python3"
  },
  "language_info": {
   "codemirror_mode": {
    "name": "ipython",
    "version": 3
   },
   "file_extension": ".py",
   "mimetype": "text/x-python",
   "name": "python",
   "nbconvert_exporter": "python",
   "pygments_lexer": "ipython3",
   "version": "3.9.13"
  }
 },
 "nbformat": 4,
 "nbformat_minor": 4
}
